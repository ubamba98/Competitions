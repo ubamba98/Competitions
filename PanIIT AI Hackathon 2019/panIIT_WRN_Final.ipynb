{
  "nbformat": 4,
  "nbformat_minor": 0,
  "metadata": {
    "colab": {
      "name": "panIIT_WRN.ipynb",
      "version": "0.3.2",
      "provenance": [],
      "collapsed_sections": [
        "e4etWCIL5vaX"
      ]
    },
    "kernelspec": {
      "name": "python3",
      "display_name": "Python 3"
    },
    "accelerator": "GPU"
  },
  "cells": [
    {
      "metadata": {
        "id": "e4etWCIL5vaX",
        "colab_type": "text"
      },
      "cell_type": "markdown",
      "source": [
        "# Colab Stuff\n",
        "Pre-setup needed to be done for running the model on Google Colaboratory"
      ]
    },
    {
      "metadata": {
        "id": "4MoeiGpq5us-",
        "colab_type": "code",
        "outputId": "5e936362-1d52-46b1-9ab7-ab7963dc8e4a",
        "colab": {
          "base_uri": "https://localhost:8080/",
          "height": 587
        }
      },
      "cell_type": "code",
      "source": [
        "!wget https://cdn.skillenza.com/files/5ee0a2e1-bf6d-4173-8244-e75fa2d7bbe2/training.5k.zip\n",
        "!wget https://cdn.skillenza.com/files/7da538a3-4db6-46ea-a4f8-87a21368e5f5/testing.40k.zip\n",
        "!wget https://cdn.skillenza.com/files/b8f97b6c-70a5-4f00-b748-9f9765c9b17e/sample.csv"
      ],
      "execution_count": 0,
      "outputs": [
        {
          "output_type": "stream",
          "text": [
            "--2019-01-06 16:30:03--  https://cdn.skillenza.com/files/5ee0a2e1-bf6d-4173-8244-e75fa2d7bbe2/training.5k.zip\n",
            "Resolving cdn.skillenza.com (cdn.skillenza.com)... 99.84.59.14, 99.84.59.48, 99.84.59.66, ...\n",
            "Connecting to cdn.skillenza.com (cdn.skillenza.com)|99.84.59.14|:443... connected.\n",
            "HTTP request sent, awaiting response... 200 OK\n",
            "Length: 137569412 (131M) [application/zip]\n",
            "Saving to: ‘training.5k.zip’\n",
            "\n",
            "training.5k.zip     100%[===================>] 131.20M  75.7MB/s    in 1.7s    \n",
            "\n",
            "2019-01-06 16:30:05 (75.7 MB/s) - ‘training.5k.zip’ saved [137569412/137569412]\n",
            "\n",
            "--2019-01-06 16:30:07--  https://cdn.skillenza.com/files/7da538a3-4db6-46ea-a4f8-87a21368e5f5/testing.40k.zip\n",
            "Resolving cdn.skillenza.com (cdn.skillenza.com)... 99.84.59.14, 99.84.59.48, 99.84.59.66, ...\n",
            "Connecting to cdn.skillenza.com (cdn.skillenza.com)|99.84.59.14|:443... connected.\n",
            "HTTP request sent, awaiting response... 200 OK\n",
            "Length: 1099209878 (1.0G) [application/zip]\n",
            "Saving to: ‘testing.40k.zip’\n",
            "\n",
            "testing.40k.zip     100%[===================>]   1.02G  85.3MB/s    in 13s     \n",
            "\n",
            "2019-01-06 16:30:20 (83.3 MB/s) - ‘testing.40k.zip’ saved [1099209878/1099209878]\n",
            "\n",
            "--2019-01-06 16:30:22--  https://cdn.skillenza.com/files/b8f97b6c-70a5-4f00-b748-9f9765c9b17e/sample.csv\n",
            "Resolving cdn.skillenza.com (cdn.skillenza.com)... 99.84.59.14, 99.84.59.48, 99.84.59.66, ...\n",
            "Connecting to cdn.skillenza.com (cdn.skillenza.com)|99.84.59.14|:443... connected.\n",
            "HTTP request sent, awaiting response... 200 OK\n",
            "Length: 348907 (341K) [text/csv]\n",
            "Saving to: ‘sample.csv’\n",
            "\n",
            "sample.csv          100%[===================>] 340.73K  --.-KB/s    in 0.1s    \n",
            "\n",
            "2019-01-06 16:30:22 (2.83 MB/s) - ‘sample.csv’ saved [348907/348907]\n",
            "\n"
          ],
          "name": "stdout"
        }
      ]
    },
    {
      "metadata": {
        "id": "9bJ8oiwm5yjH",
        "colab_type": "code",
        "colab": {}
      },
      "cell_type": "code",
      "source": [
        "!unzip training.5k.zip\n",
        "!mv training/training/* training/\n",
        "!rm training/training -rf"
      ],
      "execution_count": 0,
      "outputs": []
    },
    {
      "metadata": {
        "id": "fwTtf-Go5zdf",
        "colab_type": "text"
      },
      "cell_type": "markdown",
      "source": [
        "# Import Stuff, Load and preprocess data"
      ]
    },
    {
      "metadata": {
        "id": "VtNe-PFRgaWX",
        "colab_type": "text"
      },
      "cell_type": "markdown",
      "source": [
        "## Wide Residual Network\n",
        "Open Source implementation of Wide Residual Networks (https://arxiv.org/abs/1605.07146) from https://github.com/EricAlcaide/keras-wrn"
      ]
    },
    {
      "metadata": {
        "id": "vmAdWsXb4Tgn",
        "colab_type": "code",
        "outputId": "a775f88f-0d04-4eeb-d90e-395073b30ffd",
        "colab": {
          "base_uri": "https://localhost:8080/",
          "height": 35
        }
      },
      "cell_type": "code",
      "source": [
        "import keras\n",
        "import keras.backend as K \n",
        "from keras.models import Model\n",
        "from keras.layers import Dense, Dropout, Add, Input, BatchNormalization, Activation\n",
        "from keras.layers import  Conv2D, MaxPooling2D, AveragePooling2D, Flatten\n",
        "from keras.regularizers import l2\n",
        "\n",
        "def main_block(x, filters, n, strides, dropout):\n",
        "\t# Normal part\n",
        "\tx_res = Conv2D(filters, (3,3), strides=strides, padding=\"same\")(x)# , kernel_regularizer=l2(5e-4)\n",
        "\tx_res = BatchNormalization()(x_res)\n",
        "\tx_res = Activation('relu')(x_res)\n",
        "\tx_res = Conv2D(filters, (3,3), padding=\"same\")(x_res)\n",
        "\t# Alternative branch\n",
        "\tx = Conv2D(filters, (1,1), strides=strides)(x)\n",
        "\t# Merge Branches\n",
        "\tx = Add()([x_res, x])\n",
        "\n",
        "\tfor i in range(n-1):\n",
        "\t\t# Residual conection\n",
        "\t\tx_res = BatchNormalization()(x)\n",
        "\t\tx_res = Activation('relu')(x_res)\n",
        "\t\tx_res = Conv2D(filters, (3,3), padding=\"same\")(x_res)\n",
        "\t\t# Apply dropout if given\n",
        "\t\tif dropout: x_res = Dropout(dropout)(x)\n",
        "\t\t# Second part\n",
        "\t\tx_res = BatchNormalization()(x_res)\n",
        "\t\tx_res = Activation('relu')(x_res)\n",
        "\t\tx_res = Conv2D(filters, (3,3), padding=\"same\")(x_res)\n",
        "\t\t# Merge branches\n",
        "\t\tx = Add()([x, x_res])\n",
        "\n",
        "\t# Inter block part\n",
        "\tx = BatchNormalization()(x)\n",
        "\tx = Activation('relu')(x)\n",
        "\treturn x\n",
        "\n",
        "def build_model(input_dims, output_dim, n, k, act= \"relu\", dropout=None):\n",
        "\t\"\"\" Builds the model. Params:\n",
        "\t\t\t- n: number of layers. WRNs are of the form WRN-N-K\n",
        "\t\t\t\t It must satisfy that (N-4)%6 = 0\n",
        "\t\t\t- k: Widening factor. WRNs are of the form WRN-N-K\n",
        "\t\t\t\t It must satisfy that K%2 = 0\n",
        "\t\t\t- input_dims: input dimensions for the model\n",
        "\t\t\t- output_dim: output dimensions for the model\n",
        "\t\t\t- dropout: dropout rate - default=0 (not recomended >0.3)\n",
        "\t\t\t- act: activation function - default=relu. Build your custom\n",
        "\t\t\t\t   one with keras.backend (ex: swish, e-swish)\n",
        "\t\"\"\"\n",
        "\t# Ensure n & k are correct\n",
        "\tassert (n-4)%6 == 0\n",
        "\tassert k%2 == 0\n",
        "\tn = (n-4)//6 \n",
        "\t# This returns a tensor input to the model\n",
        "\tinputs = Input(shape=(input_dims))\n",
        "\n",
        "\t# Head of the model\n",
        "\tx = Conv2D(16, (3,3), padding=\"same\")(inputs)\n",
        "\tx = BatchNormalization()(x)\n",
        "\tx = Activation('relu')(x)\n",
        "\n",
        "\t# 3 Blocks (normal-residual)\n",
        "\tx = main_block(x, 16*k, n, (1,1), dropout) # 0\n",
        "\tx = main_block(x, 32*k, n, (2,2), dropout) # 1\n",
        "\tx = main_block(x, 64*k, n, (2,2), dropout) # 2\n",
        "\t\t\t\n",
        "\t# Final part of the model\n",
        "\tx = AveragePooling2D((8,8))(x)\n",
        "\tx = Flatten()(x)\n",
        "\toutputs = Dense(output_dim, activation=\"softmax\")(x)\n",
        "\n",
        "\tmodel = Model(inputs=inputs, outputs=outputs)\n",
        "\treturn model"
      ],
      "execution_count": 0,
      "outputs": [
        {
          "output_type": "stream",
          "text": [
            "Using TensorFlow backend.\n"
          ],
          "name": "stderr"
        }
      ]
    },
    {
      "metadata": {
        "id": "2SLLc-6r4Tgs",
        "colab_type": "code",
        "colab": {}
      },
      "cell_type": "code",
      "source": [
        "# 6, 22, 4 turn out to be optimum values for our model\n",
        "model = build_model((200,200,1), 6, 22, 4)\n",
        "\n",
        "# Compiling the model with adaptive learning rate algorithm, Adam\n",
        "model.compile(\"adam\", \"categorical_crossentropy\", [\"accuracy\"])"
      ],
      "execution_count": 0,
      "outputs": []
    },
    {
      "metadata": {
        "id": "eHAh0SXUglCz",
        "colab_type": "text"
      },
      "cell_type": "markdown",
      "source": [
        "## Preprocessing"
      ]
    },
    {
      "metadata": {
        "id": "XQbh0HC34Tgv",
        "colab_type": "code",
        "colab": {}
      },
      "cell_type": "code",
      "source": [
        "def preprocess1(img, ksize=2, denom=1, morphsize=(5, 6), sigma=1):\n",
        "    \"\"\"\n",
        "    Performs 2D Convolution filtering + Morphological Opening\n",
        "    to extract out the central blob in binary format,\n",
        "    and to reduce the other noise.\n",
        "    \n",
        "    \"\"\"\n",
        "    assert denom > 0, 'denom should be greater than 0'\n",
        "    assert ksize == int(ksize) & ksize > 0, 'ksize must be a positive integer.'\n",
        "\n",
        "    kernel = np.ones((ksize, ksize), np.float32) / denom\n",
        "    dst = cv2.filter2D(img, -1, kernel)\n",
        "    dst = cv2.morphologyEx(dst, cv2.MORPH_OPEN, np.ones(morphsize, np.uint8))\n",
        "\n",
        "    dst = color.rgb2gray(dst) < color.rgb2gray(dst).mean()\n",
        "    \n",
        "    dst = dst.astype(np.uint8)\n",
        "\n",
        "    return dst\n",
        "\n",
        "\n",
        "def crop_image(id, data='training',\n",
        "                  ksize=2, denom=1, morphsize=(5, 6),\n",
        "                  rgb=False):\n",
        "    \"\"\"\n",
        "    Crops out only the central blob by:\n",
        "    \n",
        "    1. Running an edge detection filter with high central value\n",
        "    and division factor to essentially turn the central blob to \n",
        "    solid black and white everywhere else.\n",
        "    2. Using OpenCV contours to detect the contours in image and selecting\n",
        "    the one with the largest area (which will be the central one)\n",
        "    3. Cropping out the largest contour to get only the central blob,\n",
        "    without any external noise.\n",
        "    \n",
        "    \"\"\"\n",
        "    img = io.imread(f'{data}/{id}.png')\n",
        "\n",
        "    edged = preprocess1(img, ksize=3,\n",
        "                       denom=10, morphsize=morphsize)\n",
        "    \n",
        "    (_, cnts, _) = cv2.findContours(edged.copy(), cv2.RETR_EXTERNAL,\n",
        "                                cv2.CHAIN_APPROX_SIMPLE)\n",
        "\n",
        "    cnts_sorted = sorted(cnts, key=cv2.contourArea, reverse=True)\n",
        "    x, y, w, h = cv2.boundingRect(cnts_sorted[0])\n",
        "    cropped = img[y:y+h, x:x+w]\n",
        "    \n",
        "    if not rgb:\n",
        "        cropped = preprocess1(cropped, ksize=ksize,\n",
        "                       denom=denom, morphsize=morphsize)\n",
        "    \n",
        "    return cropped\n",
        "def prepare_image(id, data='training', shape=(200, 200), rgb=False):\n",
        "    img = crop_image(id,data, rgb=rgb)  \n",
        "    img = cv2.resize(img, shape)\n",
        "    return img"
      ],
      "execution_count": 0,
      "outputs": []
    },
    {
      "metadata": {
        "id": "w3I0V9t8grwe",
        "colab_type": "text"
      },
      "cell_type": "markdown",
      "source": [
        "## Importing Modules and loading data"
      ]
    },
    {
      "metadata": {
        "id": "ZHf_7KF_4Tg1",
        "colab_type": "code",
        "colab": {}
      },
      "cell_type": "code",
      "source": [
        "import numpy as np\n",
        "from skimage import feature, io, color, morphology\n",
        "import cv2\n",
        "import matplotlib.pyplot as plt\n",
        "import pandas as pd\n",
        "\n",
        "from keras import Sequential\n",
        "from keras.utils import to_categorical"
      ],
      "execution_count": 0,
      "outputs": []
    },
    {
      "metadata": {
        "id": "kgHNDJjX4Tg5",
        "colab_type": "code",
        "outputId": "7615f396-b8f9-4e27-f0b4-6b8cc39432c8",
        "colab": {
          "base_uri": "https://localhost:8080/",
          "height": 35
        }
      },
      "cell_type": "code",
      "source": [
        "X = np.empty((5000, 200, 200), dtype=np.uint8)\n",
        "import math\n",
        "for i in range(1,5001):\n",
        "    step = 25 / 5001\n",
        "    #X.append(cv2.resize(io.imread(f\"training/training/{i}.png\"),(224,224)))\n",
        "#     X.append(cv2.resize(io.imread(f\"training/{i}.png\"), (200, 200)))\n",
        "    \n",
        "    X[i-1] = cv2.cvtColor(prepare_image(i, data='training', rgb=True, shape=(200, 200)), cv2.COLOR_RGB2GRAY)\n",
        "    print('\\r' + f'Progress: '\n",
        "                f\"[{'=' * int((i+1) * step) + ' ' * (24 - int((i+1) * step))}]\"\n",
        "                f\"({math.ceil((i+1) * 100 /5001)} %)\",\n",
        "                end='')"
      ],
      "execution_count": 0,
      "outputs": [
        {
          "output_type": "stream",
          "text": [
            "Progress: [=========================](100 %)"
          ],
          "name": "stdout"
        }
      ]
    },
    {
      "metadata": {
        "id": "uxNkn1srg56D",
        "colab_type": "code",
        "colab": {}
      },
      "cell_type": "code",
      "source": [
        "labels = pd.read_csv('training/solution.csv')\n",
        "y = to_categorical(labels.category.values-1)"
      ],
      "execution_count": 0,
      "outputs": []
    },
    {
      "metadata": {
        "id": "VH5-OEQYgytq",
        "colab_type": "text"
      },
      "cell_type": "markdown",
      "source": [
        "# Training the model"
      ]
    },
    {
      "metadata": {
        "id": "_lWn9y4Q4Tg9",
        "colab_type": "code",
        "outputId": "f1897ba1-c29a-4dbc-b648-9b1323563b96",
        "colab": {
          "base_uri": "https://localhost:8080/",
          "height": 1416
        }
      },
      "cell_type": "code",
      "source": [
        "history = model.fit(\n",
        "    X[..., None], y, epochs=40,\n",
        "    validation_split=.15,\n",
        "    callbacks=[keras.callbacks.ModelCheckpoint(\n",
        "                  'Model.val-acc={val_acc:.2f}.val-loss={val_loss:.2f}.h5',\n",
        "                  monitor='val_loss',\n",
        "                  verbose=0,\n",
        "                  save_best_only=True,\n",
        "                  save_weights_only=False,\n",
        "                  mode='auto',\n",
        "                  period=1\n",
        "      )]\n",
        ")"
      ],
      "execution_count": 0,
      "outputs": [
        {
          "output_type": "stream",
          "text": [
            "Train on 4250 samples, validate on 750 samples\n",
            "Epoch 1/40\n",
            "4250/4250 [==============================] - 393s 92ms/step - loss: 1.6770 - acc: 0.2795 - val_loss: 1.5425 - val_acc: 0.3147\n",
            "Epoch 2/40\n",
            "4250/4250 [==============================] - 376s 88ms/step - loss: 1.4863 - acc: 0.3068 - val_loss: 1.9716 - val_acc: 0.2587\n",
            "Epoch 3/40\n",
            "4250/4250 [==============================] - 376s 89ms/step - loss: 1.4473 - acc: 0.3167 - val_loss: 1.9448 - val_acc: 0.2293\n",
            "Epoch 4/40\n",
            "4250/4250 [==============================] - 376s 89ms/step - loss: 1.4165 - acc: 0.3315 - val_loss: 1.4124 - val_acc: 0.3200\n",
            "Epoch 5/40\n",
            "4250/4250 [==============================] - 376s 89ms/step - loss: 1.3983 - acc: 0.3315 - val_loss: 1.4675 - val_acc: 0.3480\n",
            "Epoch 6/40\n",
            "4250/4250 [==============================] - 376s 89ms/step - loss: 1.3410 - acc: 0.3696 - val_loss: 3.5795 - val_acc: 0.2640\n",
            "Epoch 7/40\n",
            "4250/4250 [==============================] - 376s 89ms/step - loss: 1.2873 - acc: 0.4045 - val_loss: 1.5668 - val_acc: 0.3480\n",
            "Epoch 8/40\n",
            "4250/4250 [==============================] - 376s 89ms/step - loss: 1.2499 - acc: 0.4158 - val_loss: 1.5170 - val_acc: 0.3733\n",
            "Epoch 9/40\n",
            "4250/4250 [==============================] - 376s 89ms/step - loss: 1.2009 - acc: 0.4475 - val_loss: 1.2078 - val_acc: 0.4160\n",
            "Epoch 10/40\n",
            "4250/4250 [==============================] - 376s 89ms/step - loss: 1.1476 - acc: 0.4885 - val_loss: 3.1329 - val_acc: 0.2920\n",
            "Epoch 11/40\n",
            "4250/4250 [==============================] - 376s 89ms/step - loss: 0.9850 - acc: 0.5614 - val_loss: 1.3881 - val_acc: 0.4720\n",
            "Epoch 12/40\n",
            "4250/4250 [==============================] - 377s 89ms/step - loss: 0.7479 - acc: 0.6960 - val_loss: 1.4593 - val_acc: 0.5440\n",
            "Epoch 13/40\n",
            "4250/4250 [==============================] - 376s 89ms/step - loss: 0.3961 - acc: 0.8532 - val_loss: 2.2699 - val_acc: 0.5907\n",
            "Epoch 14/40\n",
            "4250/4250 [==============================] - 377s 89ms/step - loss: 0.2428 - acc: 0.9108 - val_loss: 0.4519 - val_acc: 0.8307\n",
            "Epoch 15/40\n",
            "4250/4250 [==============================] - 376s 89ms/step - loss: 0.1429 - acc: 0.9515 - val_loss: 0.3894 - val_acc: 0.8573\n",
            "Epoch 16/40\n",
            "4250/4250 [==============================] - 376s 89ms/step - loss: 0.1180 - acc: 0.9609 - val_loss: 0.2671 - val_acc: 0.8960\n",
            "Epoch 17/40\n",
            "4250/4250 [==============================] - 376s 89ms/step - loss: 0.0635 - acc: 0.9784 - val_loss: 0.1107 - val_acc: 0.9653\n",
            "Epoch 18/40\n",
            "4250/4250 [==============================] - 376s 89ms/step - loss: 0.0900 - acc: 0.9675 - val_loss: 0.3570 - val_acc: 0.9027\n",
            "Epoch 19/40\n",
            "4250/4250 [==============================] - 376s 89ms/step - loss: 0.0491 - acc: 0.9873 - val_loss: 0.1221 - val_acc: 0.9560\n",
            "Epoch 20/40\n",
            "4250/4250 [==============================] - 376s 89ms/step - loss: 0.0289 - acc: 0.9922 - val_loss: 0.1732 - val_acc: 0.9440\n",
            "Epoch 21/40\n",
            "4250/4250 [==============================] - 376s 89ms/step - loss: 0.0181 - acc: 0.9941 - val_loss: 0.2812 - val_acc: 0.9240\n",
            "Epoch 22/40\n",
            "4250/4250 [==============================] - 376s 89ms/step - loss: 0.0131 - acc: 0.9953 - val_loss: 0.0726 - val_acc: 0.9733\n",
            "Epoch 23/40\n",
            "4250/4250 [==============================] - 376s 89ms/step - loss: 0.0196 - acc: 0.9941 - val_loss: 0.1055 - val_acc: 0.9600\n",
            "Epoch 24/40\n",
            "4250/4250 [==============================] - 377s 89ms/step - loss: 0.0426 - acc: 0.9864 - val_loss: 0.4997 - val_acc: 0.8547\n",
            "Epoch 25/40\n",
            "4250/4250 [==============================] - 377s 89ms/step - loss: 0.0880 - acc: 0.9720 - val_loss: 0.1456 - val_acc: 0.9533\n",
            "Epoch 26/40\n",
            "4250/4250 [==============================] - 377s 89ms/step - loss: 0.0282 - acc: 0.9908 - val_loss: 0.0560 - val_acc: 0.9840\n",
            "Epoch 27/40\n",
            "4250/4250 [==============================] - 377s 89ms/step - loss: 0.0111 - acc: 0.9960 - val_loss: 0.0929 - val_acc: 0.9680\n",
            "Epoch 28/40\n",
            "4250/4250 [==============================] - 377s 89ms/step - loss: 0.0517 - acc: 0.9845 - val_loss: 1.1707 - val_acc: 0.7693\n",
            "Epoch 29/40\n",
            "4250/4250 [==============================] - 376s 89ms/step - loss: 0.0128 - acc: 0.9960 - val_loss: 0.7867 - val_acc: 0.8347\n",
            "Epoch 30/40\n",
            "4250/4250 [==============================] - 377s 89ms/step - loss: 0.0447 - acc: 0.9842 - val_loss: 0.4702 - val_acc: 0.8947\n",
            "Epoch 31/40\n",
            "4250/4250 [==============================] - 376s 89ms/step - loss: 0.0428 - acc: 0.9854 - val_loss: 0.0487 - val_acc: 0.9880\n",
            "Epoch 32/40\n",
            "4250/4250 [==============================] - 377s 89ms/step - loss: 0.0139 - acc: 0.9958 - val_loss: 0.1262 - val_acc: 0.9627\n",
            "Epoch 33/40\n",
            "4250/4250 [==============================] - 377s 89ms/step - loss: 0.0032 - acc: 0.9995 - val_loss: 0.0137 - val_acc: 0.9960\n",
            "Epoch 34/40\n",
            "4250/4250 [==============================] - 376s 89ms/step - loss: 9.2841e-04 - acc: 1.0000 - val_loss: 0.0308 - val_acc: 0.9933\n",
            "Epoch 35/40\n",
            "4250/4250 [==============================] - 376s 89ms/step - loss: 7.0841e-04 - acc: 1.0000 - val_loss: 0.0114 - val_acc: 0.9960\n",
            "Epoch 36/40\n",
            "4250/4250 [==============================] - 376s 89ms/step - loss: 2.5756e-04 - acc: 1.0000 - val_loss: 0.0102 - val_acc: 0.9973\n",
            "Epoch 37/40\n",
            "4250/4250 [==============================] - 376s 89ms/step - loss: 2.2159e-04 - acc: 1.0000 - val_loss: 0.0084 - val_acc: 0.9973\n",
            "Epoch 38/40\n",
            "4250/4250 [==============================] - 376s 89ms/step - loss: 1.6900e-04 - acc: 1.0000 - val_loss: 0.0087 - val_acc: 0.9973\n",
            "Epoch 39/40\n",
            "4250/4250 [==============================] - 376s 89ms/step - loss: 1.4807e-04 - acc: 1.0000 - val_loss: 0.0089 - val_acc: 0.9973\n",
            "Epoch 40/40\n",
            "4250/4250 [==============================] - 376s 89ms/step - loss: 1.2664e-04 - acc: 1.0000 - val_loss: 0.0094 - val_acc: 0.9973\n"
          ],
          "name": "stdout"
        }
      ]
    },
    {
      "metadata": {
        "id": "DgUj44anhABo",
        "colab_type": "text"
      },
      "cell_type": "markdown",
      "source": [
        "# Analyzing"
      ]
    },
    {
      "metadata": {
        "id": "SV8BEDHwe8AE",
        "colab_type": "code",
        "outputId": "fc9d5a26-ae29-42ae-a8b6-56d8eaa41735",
        "colab": {
          "base_uri": "https://localhost:8080/",
          "height": 705
        }
      },
      "cell_type": "code",
      "source": [
        "# Get training and test loss histories\n",
        "training_loss = history.history['loss']\n",
        "val_loss = history.history['val_loss']\n",
        "training_acc = history.history['acc']\n",
        "val_acc = history.history['val_acc']\n",
        "\n",
        "\n",
        "# Create count of the number of epochs\n",
        "epoch_count = range(1, len(training_loss) + 1)\n",
        "\n",
        "# Visualize loss history\n",
        "plt.plot(epoch_count, training_loss, 'r-')\n",
        "plt.plot(epoch_count, val_loss, 'b-')\n",
        "plt.legend(['Training Loss', 'Validation Loss'])\n",
        "plt.xlabel('Epoch')\n",
        "plt.ylabel('Loss')\n",
        "plt.show()\n",
        "\n",
        "plt.plot(epoch_count, training_acc, 'r--')\n",
        "plt.plot(epoch_count, val_acc, 'b--')\n",
        "plt.legend(['Training Accuracy', 'Validation Accuracy'])\n",
        "plt.xlabel('Epoch')\n",
        "plt.ylabel('Accuracy')\n",
        "plt.show()"
      ],
      "execution_count": 0,
      "outputs": [
        {
          "output_type": "display_data",
          "data": {
            "image/png": "[encoded data removed]",
            "text/plain": [
              "<matplotlib.figure.Figure at 0x7f0342a237f0>"
            ]
          },
          "metadata": {
            "tags": []
          }
        },
        {
          "output_type": "display_data",
          "data": {
            "image/png": "[encoded data removed]",
            "text/plain": [
              "<matplotlib.figure.Figure at 0x7f0342193fd0>"
            ]
          },
          "metadata": {
            "tags": []
          }
        }
      ]
    },
    {
      "metadata": {
        "id": "z5Jzv4gVhUq0",
        "colab_type": "text"
      },
      "cell_type": "markdown",
      "source": [
        "# Loading the best weights obtained from the training and predicting for the test data"
      ]
    },
    {
      "metadata": {
        "id": "-3Q1imfAe8Cw",
        "colab_type": "code",
        "colab": {}
      },
      "cell_type": "code",
      "source": [
        "from keras.models import load_model\n",
        "model = load_model('Model.val-acc=1.00.val-loss=0.01.h5')"
      ],
      "execution_count": 0,
      "outputs": []
    },
    {
      "metadata": {
        "id": "KvxOEDr54ThG",
        "colab_type": "code",
        "outputId": "e1afddbe-fe0d-4dbd-97c9-6fcecc3b64dc",
        "colab": {
          "base_uri": "https://localhost:8080/",
          "height": 35
        }
      },
      "cell_type": "code",
      "source": [
        "sample_sub = pd.read_csv('sample.csv')\n",
        "\n",
        "import math\n",
        "n = len(sample_sub.id)\n",
        "step = 25 / n\n",
        "\n",
        "for i, id in enumerate(sample_sub.id):\n",
        "  sample_sub.category[sample_sub.id == id] = np.argmax(model.predict(\n",
        "                      cv2.cvtColor(prepare_image(id, data='testing', rgb=True, shape=(200, 200)), cv2.COLOR_RGB2GRAY)[None, ..., None]\n",
        "                        )) + 1\n",
        "  print('\\r' + f'Predict Progress: '\n",
        "                f\"[{'=' * int((i+1) * step) + ' ' * (24 - int((i+1) * step))}]\"\n",
        "                f\"({math.ceil((i+1) * 100 /n)} %)\",\n",
        "                end='')"
      ],
      "execution_count": 0,
      "outputs": [
        {
          "output_type": "stream",
          "text": [
            "Predict Progress: [=========================](100 %)"
          ],
          "name": "stdout"
        }
      ]
    },
    {
      "metadata": {
        "id": "G31wzOy464NO",
        "colab_type": "code",
        "colab": {}
      },
      "cell_type": "code",
      "source": [
        "sample_sub.to_csv('pred.csv', index=False)"
      ],
      "execution_count": 0,
      "outputs": []
    },
    {
      "metadata": {
        "id": "diURe2t1hfSq",
        "colab_type": "code",
        "colab": {}
      },
      "cell_type": "code",
      "source": [
        ""
      ],
      "execution_count": 0,
      "outputs": []
    }
  ]
}